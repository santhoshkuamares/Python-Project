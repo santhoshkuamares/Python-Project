{
 "cells": [
  {
   "cell_type": "markdown",
   "metadata": {
    "id": "l9se6G86LZk4"
   },
   "source": [
    "# **AI AND APPLICATIONS**\n",
    "# **Introduction**\n",
    "**This dataset provides details about Washington police shoothings and some the features are race, gender, city, flee and much more**\n",
    "\n",
    "# **GOAL**\n",
    "**This project's main aim is to do Exploratory Data Analysis on this dataset, and plot graphs to grasp understanding and interpret on how data is distributed**\n",
    "\n",
    "# **ORGIN OF THE DATASET**\n",
    "**This dataset is collected from Kaggle from the following link https://www.kaggle.com/datasets/aquibahmad7/police-shootings-in-the-united-states-2015-2024/datacode**\n",
    "\n",
    "# **DETAILS OF THE FILE AS FOLLOWS**\n",
    "*      File Name :2024-07-23-washington-post-police-shootings-export.csv\n",
    "*      Number of Training data : 9893\n",
    "*      Number of features : 12\n",
    "\n",
    "\n"
   ]
  },
  {
   "cell_type": "markdown",
   "metadata": {
    "id": "g4WOA975IOxz"
   },
   "source": [
    "\n",
    "# **THE BUSINESS CONTEXT**\n",
    "\n",
    "**My client is Washington post and they have USA police shooting record. They need me as a data scientist to provide detailed information on each incident, so we can increase accountability of the police department.and instruct USA Government to invest money on where the shootings occured very highly to solve this problem**"
   ]
  },
  {
   "cell_type": "markdown",
   "metadata": {
    "id": "0cl9l2ry79Xh"
   },
   "source": [
    "# **1st step**\n",
    "\n",
    "\n",
    "1. Here importing pandas library to read csv file in pandas dataframe\n",
    "2. Importing matplotlib to visualize and analyse data for\n",
    " understanding the dataset even more\n",
    "\n"
   ]
  },
  {
   "cell_type": "code",
   "execution_count": 41,
   "metadata": {
    "id": "H9yrBzNm8d1B"
   },
   "outputs": [],
   "source": [
    "import pandas as pd\n",
    "import matplotlib.pyplot as plt\n",
    "import numpy as np\n",
    "\n"
   ]
  },
  {
   "cell_type": "markdown",
   "metadata": {
    "id": "9aOPGYt2XJSS"
   },
   "source": [
    "# READING THE FILE AND EXPLORING ONLY TOP 5."
   ]
  },
  {
   "cell_type": "code",
   "execution_count": 42,
   "metadata": {
    "colab": {
     "base_uri": "https://localhost:8080/",
     "height": 293
    },
    "id": "-HTCrX6b8j7c",
    "outputId": "9f3a35c7-24ea-4ad7-82f6-044d5146caf8"
   },
   "outputs": [
    {
     "data": {
      "application/vnd.google.colaboratory.intrinsic+json": {
       "summary": "{\n  \"name\": \"usa_shooting\",\n  \"rows\": 9893,\n  \"fields\": [\n    {\n      \"column\": \"date\",\n      \"properties\": {\n        \"dtype\": \"object\",\n        \"num_unique_values\": 3255,\n        \"samples\": [\n          \"2021-11-30\",\n          \"2015-05-27\",\n          \"2021-10-06\"\n        ],\n        \"semantic_type\": \"\",\n        \"description\": \"\"\n      }\n    },\n    {\n      \"column\": \"name\",\n      \"properties\": {\n        \"dtype\": \"string\",\n        \"num_unique_values\": 9512,\n        \"samples\": [\n          \"Wilford Robert DeWeese\",\n          \"Luis A. Cardona\",\n          \"Adolfo Cruz\"\n        ],\n        \"semantic_type\": \"\",\n        \"description\": \"\"\n      }\n    },\n    {\n      \"column\": \"age\",\n      \"properties\": {\n        \"dtype\": \"number\",\n        \"std\": 12.932616294401438,\n        \"min\": 2.0,\n        \"max\": 92.0,\n        \"num_unique_values\": 83,\n        \"samples\": [\n          19.0,\n          47.0,\n          68.0\n        ],\n        \"semantic_type\": \"\",\n        \"description\": \"\"\n      }\n    },\n    {\n      \"column\": \"gender\",\n      \"properties\": {\n        \"dtype\": \"category\",\n        \"num_unique_values\": 3,\n        \"samples\": [\n          \"male\",\n          \"female\",\n          \"non-binary\"\n        ],\n        \"semantic_type\": \"\",\n        \"description\": \"\"\n      }\n    },\n    {\n      \"column\": \"armed\",\n      \"properties\": {\n        \"dtype\": \"category\",\n        \"num_unique_values\": 26,\n        \"samples\": [\n          \"other,gun\",\n          \"blunt_object,knife\",\n          \"gun\"\n        ],\n        \"semantic_type\": \"\",\n        \"description\": \"\"\n      }\n    },\n    {\n      \"column\": \"race\",\n      \"properties\": {\n        \"dtype\": \"category\",\n        \"num_unique_values\": 12,\n        \"samples\": [\n          \"Black,Hispanic\",\n          \"White,Hispanic\",\n          \"White\"\n        ],\n        \"semantic_type\": \"\",\n        \"description\": \"\"\n      }\n    },\n    {\n      \"column\": \"city\",\n      \"properties\": {\n        \"dtype\": \"category\",\n        \"num_unique_values\": 3610,\n        \"samples\": [\n          \"Buda\",\n          \"Urbandale\",\n          \"Evangeline Parish\"\n        ],\n        \"semantic_type\": \"\",\n        \"description\": \"\"\n      }\n    },\n    {\n      \"column\": \"state\",\n      \"properties\": {\n        \"dtype\": \"category\",\n        \"num_unique_values\": 51,\n        \"samples\": [\n          \"WV\",\n          \"SC\",\n          \"ND\"\n        ],\n        \"semantic_type\": \"\",\n        \"description\": \"\"\n      }\n    },\n    {\n      \"column\": \"flee\",\n      \"properties\": {\n        \"dtype\": \"category\",\n        \"num_unique_values\": 4,\n        \"samples\": [\n          \"car\",\n          \"other\",\n          \"not\"\n        ],\n        \"semantic_type\": \"\",\n        \"description\": \"\"\n      }\n    },\n    {\n      \"column\": \"body_camera\",\n      \"properties\": {\n        \"dtype\": \"boolean\",\n        \"num_unique_values\": 2,\n        \"samples\": [\n          true,\n          false\n        ],\n        \"semantic_type\": \"\",\n        \"description\": \"\"\n      }\n    },\n    {\n      \"column\": \"signs_of_mental_illness\",\n      \"properties\": {\n        \"dtype\": \"boolean\",\n        \"num_unique_values\": 2,\n        \"samples\": [\n          true,\n          false\n        ],\n        \"semantic_type\": \"\",\n        \"description\": \"\"\n      }\n    },\n    {\n      \"column\": \"police_departments_involved\",\n      \"properties\": {\n        \"dtype\": \"category\",\n        \"num_unique_values\": 3726,\n        \"samples\": [\n          \"Covina Police Department, CA\",\n          \"Real County Sheriff's Office, TX\"\n        ],\n        \"semantic_type\": \"\",\n        \"description\": \"\"\n      }\n    }\n  ]\n}",
       "type": "dataframe",
       "variable_name": "usa_shooting"
      },
      "text/html": [
       "\n",
       "  <div id=\"df-89bc15c7-a4c5-427b-8f71-63ce2f7cc0ef\" class=\"colab-df-container\">\n",
       "    <div>\n",
       "<style scoped>\n",
       "    .dataframe tbody tr th:only-of-type {\n",
       "        vertical-align: middle;\n",
       "    }\n",
       "\n",
       "    .dataframe tbody tr th {\n",
       "        vertical-align: top;\n",
       "    }\n",
       "\n",
       "    .dataframe thead th {\n",
       "        text-align: right;\n",
       "    }\n",
       "</style>\n",
       "<table border=\"1\" class=\"dataframe\">\n",
       "  <thead>\n",
       "    <tr style=\"text-align: right;\">\n",
       "      <th></th>\n",
       "      <th>date</th>\n",
       "      <th>name</th>\n",
       "      <th>age</th>\n",
       "      <th>gender</th>\n",
       "      <th>armed</th>\n",
       "      <th>race</th>\n",
       "      <th>city</th>\n",
       "      <th>state</th>\n",
       "      <th>flee</th>\n",
       "      <th>body_camera</th>\n",
       "      <th>signs_of_mental_illness</th>\n",
       "      <th>police_departments_involved</th>\n",
       "    </tr>\n",
       "  </thead>\n",
       "  <tbody>\n",
       "    <tr>\n",
       "      <th>0</th>\n",
       "      <td>2015-01-02</td>\n",
       "      <td>Lewis Lee Lembke</td>\n",
       "      <td>47.0</td>\n",
       "      <td>male</td>\n",
       "      <td>gun</td>\n",
       "      <td>White</td>\n",
       "      <td>Aloha</td>\n",
       "      <td>OR</td>\n",
       "      <td>not</td>\n",
       "      <td>False</td>\n",
       "      <td>False</td>\n",
       "      <td>Washington County Sheriff's Office, OR</td>\n",
       "    </tr>\n",
       "    <tr>\n",
       "      <th>1</th>\n",
       "      <td>2015-01-02</td>\n",
       "      <td>Tim Elliot</td>\n",
       "      <td>53.0</td>\n",
       "      <td>male</td>\n",
       "      <td>gun</td>\n",
       "      <td>Asian</td>\n",
       "      <td>Shelton</td>\n",
       "      <td>WA</td>\n",
       "      <td>not</td>\n",
       "      <td>False</td>\n",
       "      <td>True</td>\n",
       "      <td>Mason County Sheriff's Office, WA</td>\n",
       "    </tr>\n",
       "    <tr>\n",
       "      <th>2</th>\n",
       "      <td>2015-01-03</td>\n",
       "      <td>John Paul Quintero</td>\n",
       "      <td>23.0</td>\n",
       "      <td>male</td>\n",
       "      <td>unarmed</td>\n",
       "      <td>Hispanic</td>\n",
       "      <td>Wichita</td>\n",
       "      <td>KS</td>\n",
       "      <td>not</td>\n",
       "      <td>False</td>\n",
       "      <td>False</td>\n",
       "      <td>Wichita Police Department, KS</td>\n",
       "    </tr>\n",
       "    <tr>\n",
       "      <th>3</th>\n",
       "      <td>2015-01-04</td>\n",
       "      <td>Kenneth Joe Brown</td>\n",
       "      <td>18.0</td>\n",
       "      <td>male</td>\n",
       "      <td>gun</td>\n",
       "      <td>White</td>\n",
       "      <td>Guthrie</td>\n",
       "      <td>OK</td>\n",
       "      <td>not</td>\n",
       "      <td>False</td>\n",
       "      <td>False</td>\n",
       "      <td>Oklahoma Highway Patrol, OK</td>\n",
       "    </tr>\n",
       "    <tr>\n",
       "      <th>4</th>\n",
       "      <td>2015-01-04</td>\n",
       "      <td>Michael Rodriguez</td>\n",
       "      <td>39.0</td>\n",
       "      <td>male</td>\n",
       "      <td>other</td>\n",
       "      <td>Hispanic</td>\n",
       "      <td>Evans</td>\n",
       "      <td>CO</td>\n",
       "      <td>not</td>\n",
       "      <td>False</td>\n",
       "      <td>False</td>\n",
       "      <td>Evans Police Department, CO</td>\n",
       "    </tr>\n",
       "  </tbody>\n",
       "</table>\n",
       "</div>\n",
       "    <div class=\"colab-df-buttons\">\n",
       "\n",
       "  <div class=\"colab-df-container\">\n",
       "    <button class=\"colab-df-convert\" onclick=\"convertToInteractive('df-89bc15c7-a4c5-427b-8f71-63ce2f7cc0ef')\"\n",
       "            title=\"Convert this dataframe to an interactive table.\"\n",
       "            style=\"display:none;\">\n",
       "\n",
       "  <svg xmlns=\"http://www.w3.org/2000/svg\" height=\"24px\" viewBox=\"0 -960 960 960\">\n",
       "    <path d=\"M120-120v-720h720v720H120Zm60-500h600v-160H180v160Zm220 220h160v-160H400v160Zm0 220h160v-160H400v160ZM180-400h160v-160H180v160Zm440 0h160v-160H620v160ZM180-180h160v-160H180v160Zm440 0h160v-160H620v160Z\"/>\n",
       "  </svg>\n",
       "    </button>\n",
       "\n",
       "  <style>\n",
       "    .colab-df-container {\n",
       "      display:flex;\n",
       "      gap: 12px;\n",
       "    }\n",
       "\n",
       "    .colab-df-convert {\n",
       "      background-color: #E8F0FE;\n",
       "      border: none;\n",
       "      border-radius: 50%;\n",
       "      cursor: pointer;\n",
       "      display: none;\n",
       "      fill: #1967D2;\n",
       "      height: 32px;\n",
       "      padding: 0 0 0 0;\n",
       "      width: 32px;\n",
       "    }\n",
       "\n",
       "    .colab-df-convert:hover {\n",
       "      background-color: #E2EBFA;\n",
       "      box-shadow: 0px 1px 2px rgba(60, 64, 67, 0.3), 0px 1px 3px 1px rgba(60, 64, 67, 0.15);\n",
       "      fill: #174EA6;\n",
       "    }\n",
       "\n",
       "    .colab-df-buttons div {\n",
       "      margin-bottom: 4px;\n",
       "    }\n",
       "\n",
       "    [theme=dark] .colab-df-convert {\n",
       "      background-color: #3B4455;\n",
       "      fill: #D2E3FC;\n",
       "    }\n",
       "\n",
       "    [theme=dark] .colab-df-convert:hover {\n",
       "      background-color: #434B5C;\n",
       "      box-shadow: 0px 1px 3px 1px rgba(0, 0, 0, 0.15);\n",
       "      filter: drop-shadow(0px 1px 2px rgba(0, 0, 0, 0.3));\n",
       "      fill: #FFFFFF;\n",
       "    }\n",
       "  </style>\n",
       "\n",
       "    <script>\n",
       "      const buttonEl =\n",
       "        document.querySelector('#df-89bc15c7-a4c5-427b-8f71-63ce2f7cc0ef button.colab-df-convert');\n",
       "      buttonEl.style.display =\n",
       "        google.colab.kernel.accessAllowed ? 'block' : 'none';\n",
       "\n",
       "      async function convertToInteractive(key) {\n",
       "        const element = document.querySelector('#df-89bc15c7-a4c5-427b-8f71-63ce2f7cc0ef');\n",
       "        const dataTable =\n",
       "          await google.colab.kernel.invokeFunction('convertToInteractive',\n",
       "                                                    [key], {});\n",
       "        if (!dataTable) return;\n",
       "\n",
       "        const docLinkHtml = 'Like what you see? Visit the ' +\n",
       "          '<a target=\"_blank\" href=https://colab.research.google.com/notebooks/data_table.ipynb>data table notebook</a>'\n",
       "          + ' to learn more about interactive tables.';\n",
       "        element.innerHTML = '';\n",
       "        dataTable['output_type'] = 'display_data';\n",
       "        await google.colab.output.renderOutput(dataTable, element);\n",
       "        const docLink = document.createElement('div');\n",
       "        docLink.innerHTML = docLinkHtml;\n",
       "        element.appendChild(docLink);\n",
       "      }\n",
       "    </script>\n",
       "  </div>\n",
       "\n",
       "\n",
       "<div id=\"df-0595a1d6-6ab3-4602-9f24-ca3a07d813ca\">\n",
       "  <button class=\"colab-df-quickchart\" onclick=\"quickchart('df-0595a1d6-6ab3-4602-9f24-ca3a07d813ca')\"\n",
       "            title=\"Suggest charts\"\n",
       "            style=\"display:none;\">\n",
       "\n",
       "<svg xmlns=\"http://www.w3.org/2000/svg\" height=\"24px\"viewBox=\"0 0 24 24\"\n",
       "     width=\"24px\">\n",
       "    <g>\n",
       "        <path d=\"M19 3H5c-1.1 0-2 .9-2 2v14c0 1.1.9 2 2 2h14c1.1 0 2-.9 2-2V5c0-1.1-.9-2-2-2zM9 17H7v-7h2v7zm4 0h-2V7h2v10zm4 0h-2v-4h2v4z\"/>\n",
       "    </g>\n",
       "</svg>\n",
       "  </button>\n",
       "\n",
       "<style>\n",
       "  .colab-df-quickchart {\n",
       "      --bg-color: #E8F0FE;\n",
       "      --fill-color: #1967D2;\n",
       "      --hover-bg-color: #E2EBFA;\n",
       "      --hover-fill-color: #174EA6;\n",
       "      --disabled-fill-color: #AAA;\n",
       "      --disabled-bg-color: #DDD;\n",
       "  }\n",
       "\n",
       "  [theme=dark] .colab-df-quickchart {\n",
       "      --bg-color: #3B4455;\n",
       "      --fill-color: #D2E3FC;\n",
       "      --hover-bg-color: #434B5C;\n",
       "      --hover-fill-color: #FFFFFF;\n",
       "      --disabled-bg-color: #3B4455;\n",
       "      --disabled-fill-color: #666;\n",
       "  }\n",
       "\n",
       "  .colab-df-quickchart {\n",
       "    background-color: var(--bg-color);\n",
       "    border: none;\n",
       "    border-radius: 50%;\n",
       "    cursor: pointer;\n",
       "    display: none;\n",
       "    fill: var(--fill-color);\n",
       "    height: 32px;\n",
       "    padding: 0;\n",
       "    width: 32px;\n",
       "  }\n",
       "\n",
       "  .colab-df-quickchart:hover {\n",
       "    background-color: var(--hover-bg-color);\n",
       "    box-shadow: 0 1px 2px rgba(60, 64, 67, 0.3), 0 1px 3px 1px rgba(60, 64, 67, 0.15);\n",
       "    fill: var(--button-hover-fill-color);\n",
       "  }\n",
       "\n",
       "  .colab-df-quickchart-complete:disabled,\n",
       "  .colab-df-quickchart-complete:disabled:hover {\n",
       "    background-color: var(--disabled-bg-color);\n",
       "    fill: var(--disabled-fill-color);\n",
       "    box-shadow: none;\n",
       "  }\n",
       "\n",
       "  .colab-df-spinner {\n",
       "    border: 2px solid var(--fill-color);\n",
       "    border-color: transparent;\n",
       "    border-bottom-color: var(--fill-color);\n",
       "    animation:\n",
       "      spin 1s steps(1) infinite;\n",
       "  }\n",
       "\n",
       "  @keyframes spin {\n",
       "    0% {\n",
       "      border-color: transparent;\n",
       "      border-bottom-color: var(--fill-color);\n",
       "      border-left-color: var(--fill-color);\n",
       "    }\n",
       "    20% {\n",
       "      border-color: transparent;\n",
       "      border-left-color: var(--fill-color);\n",
       "      border-top-color: var(--fill-color);\n",
       "    }\n",
       "    30% {\n",
       "      border-color: transparent;\n",
       "      border-left-color: var(--fill-color);\n",
       "      border-top-color: var(--fill-color);\n",
       "      border-right-color: var(--fill-color);\n",
       "    }\n",
       "    40% {\n",
       "      border-color: transparent;\n",
       "      border-right-color: var(--fill-color);\n",
       "      border-top-color: var(--fill-color);\n",
       "    }\n",
       "    60% {\n",
       "      border-color: transparent;\n",
       "      border-right-color: var(--fill-color);\n",
       "    }\n",
       "    80% {\n",
       "      border-color: transparent;\n",
       "      border-right-color: var(--fill-color);\n",
       "      border-bottom-color: var(--fill-color);\n",
       "    }\n",
       "    90% {\n",
       "      border-color: transparent;\n",
       "      border-bottom-color: var(--fill-color);\n",
       "    }\n",
       "  }\n",
       "</style>\n",
       "\n",
       "  <script>\n",
       "    async function quickchart(key) {\n",
       "      const quickchartButtonEl =\n",
       "        document.querySelector('#' + key + ' button');\n",
       "      quickchartButtonEl.disabled = true;  // To prevent multiple clicks.\n",
       "      quickchartButtonEl.classList.add('colab-df-spinner');\n",
       "      try {\n",
       "        const charts = await google.colab.kernel.invokeFunction(\n",
       "            'suggestCharts', [key], {});\n",
       "      } catch (error) {\n",
       "        console.error('Error during call to suggestCharts:', error);\n",
       "      }\n",
       "      quickchartButtonEl.classList.remove('colab-df-spinner');\n",
       "      quickchartButtonEl.classList.add('colab-df-quickchart-complete');\n",
       "    }\n",
       "    (() => {\n",
       "      let quickchartButtonEl =\n",
       "        document.querySelector('#df-0595a1d6-6ab3-4602-9f24-ca3a07d813ca button');\n",
       "      quickchartButtonEl.style.display =\n",
       "        google.colab.kernel.accessAllowed ? 'block' : 'none';\n",
       "    })();\n",
       "  </script>\n",
       "</div>\n",
       "\n",
       "    </div>\n",
       "  </div>\n"
      ],
      "text/plain": [
       "         date                name   age gender    armed      race     city  \\\n",
       "0  2015-01-02    Lewis Lee Lembke  47.0   male      gun     White    Aloha   \n",
       "1  2015-01-02          Tim Elliot  53.0   male      gun     Asian  Shelton   \n",
       "2  2015-01-03  John Paul Quintero  23.0   male  unarmed  Hispanic  Wichita   \n",
       "3  2015-01-04   Kenneth Joe Brown  18.0   male      gun     White  Guthrie   \n",
       "4  2015-01-04   Michael Rodriguez  39.0   male    other  Hispanic    Evans   \n",
       "\n",
       "  state flee  body_camera  signs_of_mental_illness  \\\n",
       "0    OR  not        False                    False   \n",
       "1    WA  not        False                     True   \n",
       "2    KS  not        False                    False   \n",
       "3    OK  not        False                    False   \n",
       "4    CO  not        False                    False   \n",
       "\n",
       "              police_departments_involved  \n",
       "0  Washington County Sheriff's Office, OR  \n",
       "1       Mason County Sheriff's Office, WA  \n",
       "2           Wichita Police Department, KS  \n",
       "3             Oklahoma Highway Patrol, OK  \n",
       "4             Evans Police Department, CO  "
      ]
     },
     "execution_count": 42,
     "metadata": {},
     "output_type": "execute_result"
    }
   ],
   "source": [
    "usa_shooting = pd.read_csv('/content/2024-07-23-washington-post-police-shootings-export.csv')\n",
    "usa_shooting.head()"
   ]
  },
  {
   "cell_type": "markdown",
   "metadata": {
    "id": "G-2MXkWXXYcu"
   },
   "source": [
    "# **USING SHAPE FUNCTION TO GET MATRIX OF THE DATASET OR HOW MANY TRAININGS AND COLUMNS IT HAS.**"
   ]
  },
  {
   "cell_type": "code",
   "execution_count": 43,
   "metadata": {
    "colab": {
     "base_uri": "https://localhost:8080/"
    },
    "id": "xYv4NIN5ClTs",
    "outputId": "23b4187b-b1e0-4043-d6e1-7ba4e15e4852"
   },
   "outputs": [
    {
     "data": {
      "text/plain": [
       "(9893, 12)"
      ]
     },
     "execution_count": 43,
     "metadata": {},
     "output_type": "execute_result"
    }
   ],
   "source": [
    "usa_shooting.shape"
   ]
  },
  {
   "cell_type": "markdown",
   "metadata": {
    "id": "A_yC5LPBXp9-"
   },
   "source": [
    "# **HERE WE SEEING ITS TOTAL INFORMATION OF DATSET, INCLUDING DATATYPE, COLUMN NAME.**\n",
    "\n",
    "\n",
    "\n"
   ]
  },
  {
   "cell_type": "code",
   "execution_count": 44,
   "metadata": {
    "colab": {
     "base_uri": "https://localhost:8080/"
    },
    "id": "rxoHBxldECZs",
    "outputId": "288c437c-9868-4200-83d7-97f40e33e32e"
   },
   "outputs": [
    {
     "name": "stdout",
     "output_type": "stream",
     "text": [
      "<class 'pandas.core.frame.DataFrame'>\n",
      "RangeIndex: 9893 entries, 0 to 9892\n",
      "Data columns (total 12 columns):\n",
      " #   Column                       Non-Null Count  Dtype  \n",
      "---  ------                       --------------  -----  \n",
      " 0   date                         9893 non-null   object \n",
      " 1   name                         9556 non-null   object \n",
      " 2   age                          9509 non-null   float64\n",
      " 3   gender                       9865 non-null   object \n",
      " 4   armed                        9682 non-null   object \n",
      " 5   race                         9893 non-null   object \n",
      " 6   city                         9821 non-null   object \n",
      " 7   state                        9893 non-null   object \n",
      " 8   flee                         8548 non-null   object \n",
      " 9   body_camera                  9893 non-null   bool   \n",
      " 10  signs_of_mental_illness      9893 non-null   bool   \n",
      " 11  police_departments_involved  9892 non-null   object \n",
      "dtypes: bool(2), float64(1), object(9)\n",
      "memory usage: 792.3+ KB\n"
     ]
    }
   ],
   "source": [
    "usa_shooting.info()"
   ]
  },
  {
   "cell_type": "code",
   "execution_count": 45,
   "metadata": {
    "colab": {
     "base_uri": "https://localhost:8080/"
    },
    "id": "eTOSPwpeFAeS",
    "outputId": "275dbcc0-74fc-4d38-b413-c2145e946403"
   },
   "outputs": [
    {
     "data": {
      "text/plain": [
       "Index(['date', 'name', 'age', 'gender', 'armed', 'race', 'city', 'state',\n",
       "       'flee', 'body_camera', 'signs_of_mental_illness',\n",
       "       'police_departments_involved'],\n",
       "      dtype='object')"
      ]
     },
     "execution_count": 45,
     "metadata": {},
     "output_type": "execute_result"
    }
   ],
   "source": [
    "usa_shooting.columns"
   ]
  },
  {
   "cell_type": "markdown",
   "metadata": {
    "id": "bhWho993ScED"
   },
   "source": [
    "# **I used function to get missing values and inside that I added inbuilt function to null and summed up.**"
   ]
  },
  {
   "cell_type": "code",
   "execution_count": 57,
   "metadata": {
    "id": "bvLrQ2peO2ja"
   },
   "outputs": [],
   "source": [
    "def missing_data(dataframe):\n",
    "  \"\"\" The below code will check for missing values in the dataframe.\"\"\"\n",
    "\n",
    "  data_missing = dataframe.isnull().sum()\n",
    "  print(data_missing)\n",
    "  return data_missing"
   ]
  },
  {
   "cell_type": "code",
   "execution_count": 58,
   "metadata": {
    "colab": {
     "base_uri": "https://localhost:8080/"
    },
    "id": "B7gnEUURFb0W",
    "outputId": "9cbcc34b-a942-492e-8747-69152e9864fd"
   },
   "outputs": [
    {
     "name": "stdout",
     "output_type": "stream",
     "text": [
      "date                              0\n",
      "name                            337\n",
      "age                             384\n",
      "gender                           28\n",
      "armed                           211\n",
      "race                              0\n",
      "city                             72\n",
      "state                             0\n",
      "flee                           1345\n",
      "body_camera                       0\n",
      "signs_of_mental_illness           0\n",
      "police_departments_involved       1\n",
      "dtype: int64\n"
     ]
    }
   ],
   "source": [
    "miss_data = missing_data(usa_shooting)\n"
   ]
  },
  {
   "cell_type": "markdown",
   "metadata": {
    "id": "NPjID5PqSGYW"
   },
   "source": [
    "# **HANDLING MISSING VALUES.**\n",
    "\n",
    "\n"
   ]
  },
  {
   "cell_type": "code",
   "execution_count": 59,
   "metadata": {
    "colab": {
     "base_uri": "https://localhost:8080/"
    },
    "id": "0-6VofHsR_tr",
    "outputId": "a919ea38-e973-4124-b9d4-2a4dab5b11e7"
   },
   "outputs": [
    {
     "name": "stdout",
     "output_type": "stream",
     "text": [
      "date                           0\n",
      "name                           0\n",
      "age                            0\n",
      "gender                         0\n",
      "armed                          0\n",
      "race                           0\n",
      "city                           0\n",
      "state                          0\n",
      "flee                           0\n",
      "body_camera                    0\n",
      "signs_of_mental_illness        0\n",
      "police_departments_involved    0\n",
      "dtype: int64\n"
     ]
    }
   ],
   "source": [
    "usa_shooting = usa_shooting.dropna()\n",
    "miss_data = missing_data(usa_shooting)"
   ]
  },
  {
   "cell_type": "markdown",
   "metadata": {
    "id": "vQNhyDOaer5c"
   },
   "source": [
    "# **Getting mean, standered devitaion and much more.**"
   ]
  },
  {
   "cell_type": "code",
   "execution_count": 48,
   "metadata": {
    "colab": {
     "base_uri": "https://localhost:8080/",
     "height": 300
    },
    "id": "Ubqx_836JhJ6",
    "outputId": "3a994f7b-453d-4b18-d682-71cd4dfddfb8"
   },
   "outputs": [
    {
     "data": {
      "application/vnd.google.colaboratory.intrinsic+json": {
       "summary": "{\n  \"name\": \"usa_shooting\",\n  \"rows\": 8,\n  \"fields\": [\n    {\n      \"column\": \"age\",\n      \"properties\": {\n        \"dtype\": \"number\",\n        \"std\": 3349.300027474636,\n        \"min\": 2.0,\n        \"max\": 9509.0,\n        \"num_unique_values\": 8,\n        \"samples\": [\n          37.40950678304764,\n          35.0,\n          9509.0\n        ],\n        \"semantic_type\": \"\",\n        \"description\": \"\"\n      }\n    }\n  ]\n}",
       "type": "dataframe"
      },
      "text/html": [
       "\n",
       "  <div id=\"df-5cba7a1a-ea04-4ef0-ae77-06a81d7cc675\" class=\"colab-df-container\">\n",
       "    <div>\n",
       "<style scoped>\n",
       "    .dataframe tbody tr th:only-of-type {\n",
       "        vertical-align: middle;\n",
       "    }\n",
       "\n",
       "    .dataframe tbody tr th {\n",
       "        vertical-align: top;\n",
       "    }\n",
       "\n",
       "    .dataframe thead th {\n",
       "        text-align: right;\n",
       "    }\n",
       "</style>\n",
       "<table border=\"1\" class=\"dataframe\">\n",
       "  <thead>\n",
       "    <tr style=\"text-align: right;\">\n",
       "      <th></th>\n",
       "      <th>age</th>\n",
       "    </tr>\n",
       "  </thead>\n",
       "  <tbody>\n",
       "    <tr>\n",
       "      <th>count</th>\n",
       "      <td>9509.000000</td>\n",
       "    </tr>\n",
       "    <tr>\n",
       "      <th>mean</th>\n",
       "      <td>37.409507</td>\n",
       "    </tr>\n",
       "    <tr>\n",
       "      <th>std</th>\n",
       "      <td>12.932616</td>\n",
       "    </tr>\n",
       "    <tr>\n",
       "      <th>min</th>\n",
       "      <td>2.000000</td>\n",
       "    </tr>\n",
       "    <tr>\n",
       "      <th>25%</th>\n",
       "      <td>28.000000</td>\n",
       "    </tr>\n",
       "    <tr>\n",
       "      <th>50%</th>\n",
       "      <td>35.000000</td>\n",
       "    </tr>\n",
       "    <tr>\n",
       "      <th>75%</th>\n",
       "      <td>45.000000</td>\n",
       "    </tr>\n",
       "    <tr>\n",
       "      <th>max</th>\n",
       "      <td>92.000000</td>\n",
       "    </tr>\n",
       "  </tbody>\n",
       "</table>\n",
       "</div>\n",
       "    <div class=\"colab-df-buttons\">\n",
       "\n",
       "  <div class=\"colab-df-container\">\n",
       "    <button class=\"colab-df-convert\" onclick=\"convertToInteractive('df-5cba7a1a-ea04-4ef0-ae77-06a81d7cc675')\"\n",
       "            title=\"Convert this dataframe to an interactive table.\"\n",
       "            style=\"display:none;\">\n",
       "\n",
       "  <svg xmlns=\"http://www.w3.org/2000/svg\" height=\"24px\" viewBox=\"0 -960 960 960\">\n",
       "    <path d=\"M120-120v-720h720v720H120Zm60-500h600v-160H180v160Zm220 220h160v-160H400v160Zm0 220h160v-160H400v160ZM180-400h160v-160H180v160Zm440 0h160v-160H620v160ZM180-180h160v-160H180v160Zm440 0h160v-160H620v160Z\"/>\n",
       "  </svg>\n",
       "    </button>\n",
       "\n",
       "  <style>\n",
       "    .colab-df-container {\n",
       "      display:flex;\n",
       "      gap: 12px;\n",
       "    }\n",
       "\n",
       "    .colab-df-convert {\n",
       "      background-color: #E8F0FE;\n",
       "      border: none;\n",
       "      border-radius: 50%;\n",
       "      cursor: pointer;\n",
       "      display: none;\n",
       "      fill: #1967D2;\n",
       "      height: 32px;\n",
       "      padding: 0 0 0 0;\n",
       "      width: 32px;\n",
       "    }\n",
       "\n",
       "    .colab-df-convert:hover {\n",
       "      background-color: #E2EBFA;\n",
       "      box-shadow: 0px 1px 2px rgba(60, 64, 67, 0.3), 0px 1px 3px 1px rgba(60, 64, 67, 0.15);\n",
       "      fill: #174EA6;\n",
       "    }\n",
       "\n",
       "    .colab-df-buttons div {\n",
       "      margin-bottom: 4px;\n",
       "    }\n",
       "\n",
       "    [theme=dark] .colab-df-convert {\n",
       "      background-color: #3B4455;\n",
       "      fill: #D2E3FC;\n",
       "    }\n",
       "\n",
       "    [theme=dark] .colab-df-convert:hover {\n",
       "      background-color: #434B5C;\n",
       "      box-shadow: 0px 1px 3px 1px rgba(0, 0, 0, 0.15);\n",
       "      filter: drop-shadow(0px 1px 2px rgba(0, 0, 0, 0.3));\n",
       "      fill: #FFFFFF;\n",
       "    }\n",
       "  </style>\n",
       "\n",
       "    <script>\n",
       "      const buttonEl =\n",
       "        document.querySelector('#df-5cba7a1a-ea04-4ef0-ae77-06a81d7cc675 button.colab-df-convert');\n",
       "      buttonEl.style.display =\n",
       "        google.colab.kernel.accessAllowed ? 'block' : 'none';\n",
       "\n",
       "      async function convertToInteractive(key) {\n",
       "        const element = document.querySelector('#df-5cba7a1a-ea04-4ef0-ae77-06a81d7cc675');\n",
       "        const dataTable =\n",
       "          await google.colab.kernel.invokeFunction('convertToInteractive',\n",
       "                                                    [key], {});\n",
       "        if (!dataTable) return;\n",
       "\n",
       "        const docLinkHtml = 'Like what you see? Visit the ' +\n",
       "          '<a target=\"_blank\" href=https://colab.research.google.com/notebooks/data_table.ipynb>data table notebook</a>'\n",
       "          + ' to learn more about interactive tables.';\n",
       "        element.innerHTML = '';\n",
       "        dataTable['output_type'] = 'display_data';\n",
       "        await google.colab.output.renderOutput(dataTable, element);\n",
       "        const docLink = document.createElement('div');\n",
       "        docLink.innerHTML = docLinkHtml;\n",
       "        element.appendChild(docLink);\n",
       "      }\n",
       "    </script>\n",
       "  </div>\n",
       "\n",
       "\n",
       "<div id=\"df-386f887f-cd47-4294-840e-277e104c4e15\">\n",
       "  <button class=\"colab-df-quickchart\" onclick=\"quickchart('df-386f887f-cd47-4294-840e-277e104c4e15')\"\n",
       "            title=\"Suggest charts\"\n",
       "            style=\"display:none;\">\n",
       "\n",
       "<svg xmlns=\"http://www.w3.org/2000/svg\" height=\"24px\"viewBox=\"0 0 24 24\"\n",
       "     width=\"24px\">\n",
       "    <g>\n",
       "        <path d=\"M19 3H5c-1.1 0-2 .9-2 2v14c0 1.1.9 2 2 2h14c1.1 0 2-.9 2-2V5c0-1.1-.9-2-2-2zM9 17H7v-7h2v7zm4 0h-2V7h2v10zm4 0h-2v-4h2v4z\"/>\n",
       "    </g>\n",
       "</svg>\n",
       "  </button>\n",
       "\n",
       "<style>\n",
       "  .colab-df-quickchart {\n",
       "      --bg-color: #E8F0FE;\n",
       "      --fill-color: #1967D2;\n",
       "      --hover-bg-color: #E2EBFA;\n",
       "      --hover-fill-color: #174EA6;\n",
       "      --disabled-fill-color: #AAA;\n",
       "      --disabled-bg-color: #DDD;\n",
       "  }\n",
       "\n",
       "  [theme=dark] .colab-df-quickchart {\n",
       "      --bg-color: #3B4455;\n",
       "      --fill-color: #D2E3FC;\n",
       "      --hover-bg-color: #434B5C;\n",
       "      --hover-fill-color: #FFFFFF;\n",
       "      --disabled-bg-color: #3B4455;\n",
       "      --disabled-fill-color: #666;\n",
       "  }\n",
       "\n",
       "  .colab-df-quickchart {\n",
       "    background-color: var(--bg-color);\n",
       "    border: none;\n",
       "    border-radius: 50%;\n",
       "    cursor: pointer;\n",
       "    display: none;\n",
       "    fill: var(--fill-color);\n",
       "    height: 32px;\n",
       "    padding: 0;\n",
       "    width: 32px;\n",
       "  }\n",
       "\n",
       "  .colab-df-quickchart:hover {\n",
       "    background-color: var(--hover-bg-color);\n",
       "    box-shadow: 0 1px 2px rgba(60, 64, 67, 0.3), 0 1px 3px 1px rgba(60, 64, 67, 0.15);\n",
       "    fill: var(--button-hover-fill-color);\n",
       "  }\n",
       "\n",
       "  .colab-df-quickchart-complete:disabled,\n",
       "  .colab-df-quickchart-complete:disabled:hover {\n",
       "    background-color: var(--disabled-bg-color);\n",
       "    fill: var(--disabled-fill-color);\n",
       "    box-shadow: none;\n",
       "  }\n",
       "\n",
       "  .colab-df-spinner {\n",
       "    border: 2px solid var(--fill-color);\n",
       "    border-color: transparent;\n",
       "    border-bottom-color: var(--fill-color);\n",
       "    animation:\n",
       "      spin 1s steps(1) infinite;\n",
       "  }\n",
       "\n",
       "  @keyframes spin {\n",
       "    0% {\n",
       "      border-color: transparent;\n",
       "      border-bottom-color: var(--fill-color);\n",
       "      border-left-color: var(--fill-color);\n",
       "    }\n",
       "    20% {\n",
       "      border-color: transparent;\n",
       "      border-left-color: var(--fill-color);\n",
       "      border-top-color: var(--fill-color);\n",
       "    }\n",
       "    30% {\n",
       "      border-color: transparent;\n",
       "      border-left-color: var(--fill-color);\n",
       "      border-top-color: var(--fill-color);\n",
       "      border-right-color: var(--fill-color);\n",
       "    }\n",
       "    40% {\n",
       "      border-color: transparent;\n",
       "      border-right-color: var(--fill-color);\n",
       "      border-top-color: var(--fill-color);\n",
       "    }\n",
       "    60% {\n",
       "      border-color: transparent;\n",
       "      border-right-color: var(--fill-color);\n",
       "    }\n",
       "    80% {\n",
       "      border-color: transparent;\n",
       "      border-right-color: var(--fill-color);\n",
       "      border-bottom-color: var(--fill-color);\n",
       "    }\n",
       "    90% {\n",
       "      border-color: transparent;\n",
       "      border-bottom-color: var(--fill-color);\n",
       "    }\n",
       "  }\n",
       "</style>\n",
       "\n",
       "  <script>\n",
       "    async function quickchart(key) {\n",
       "      const quickchartButtonEl =\n",
       "        document.querySelector('#' + key + ' button');\n",
       "      quickchartButtonEl.disabled = true;  // To prevent multiple clicks.\n",
       "      quickchartButtonEl.classList.add('colab-df-spinner');\n",
       "      try {\n",
       "        const charts = await google.colab.kernel.invokeFunction(\n",
       "            'suggestCharts', [key], {});\n",
       "      } catch (error) {\n",
       "        console.error('Error during call to suggestCharts:', error);\n",
       "      }\n",
       "      quickchartButtonEl.classList.remove('colab-df-spinner');\n",
       "      quickchartButtonEl.classList.add('colab-df-quickchart-complete');\n",
       "    }\n",
       "    (() => {\n",
       "      let quickchartButtonEl =\n",
       "        document.querySelector('#df-386f887f-cd47-4294-840e-277e104c4e15 button');\n",
       "      quickchartButtonEl.style.display =\n",
       "        google.colab.kernel.accessAllowed ? 'block' : 'none';\n",
       "    })();\n",
       "  </script>\n",
       "</div>\n",
       "\n",
       "    </div>\n",
       "  </div>\n"
      ],
      "text/plain": [
       "               age\n",
       "count  9509.000000\n",
       "mean     37.409507\n",
       "std      12.932616\n",
       "min       2.000000\n",
       "25%      28.000000\n",
       "50%      35.000000\n",
       "75%      45.000000\n",
       "max      92.000000"
      ]
     },
     "execution_count": 48,
     "metadata": {},
     "output_type": "execute_result"
    }
   ],
   "source": [
    "usa_shooting.describe()"
   ]
  },
  {
   "cell_type": "markdown",
   "metadata": {
    "id": "6AYZ_7nze4m7"
   },
   "source": [
    "# **Exploring indepth of what age people are the most who got shot.**"
   ]
  },
  {
   "cell_type": "code",
   "execution_count": 49,
   "metadata": {
    "colab": {
     "base_uri": "https://localhost:8080/",
     "height": 489
    },
    "id": "2N3YUG5cJpB-",
    "outputId": "e92688cc-3f16-4579-a48f-ca8e95447689"
   },
   "outputs": [
    {
     "data": {
      "text/html": [
       "<div>\n",
       "<style scoped>\n",
       "    .dataframe tbody tr th:only-of-type {\n",
       "        vertical-align: middle;\n",
       "    }\n",
       "\n",
       "    .dataframe tbody tr th {\n",
       "        vertical-align: top;\n",
       "    }\n",
       "\n",
       "    .dataframe thead th {\n",
       "        text-align: right;\n",
       "    }\n",
       "</style>\n",
       "<table border=\"1\" class=\"dataframe\">\n",
       "  <thead>\n",
       "    <tr style=\"text-align: right;\">\n",
       "      <th></th>\n",
       "      <th>count</th>\n",
       "    </tr>\n",
       "    <tr>\n",
       "      <th>age</th>\n",
       "      <th></th>\n",
       "    </tr>\n",
       "  </thead>\n",
       "  <tbody>\n",
       "    <tr>\n",
       "      <th>33.0</th>\n",
       "      <td>332</td>\n",
       "    </tr>\n",
       "    <tr>\n",
       "      <th>34.0</th>\n",
       "      <td>328</td>\n",
       "    </tr>\n",
       "    <tr>\n",
       "      <th>31.0</th>\n",
       "      <td>321</td>\n",
       "    </tr>\n",
       "    <tr>\n",
       "      <th>32.0</th>\n",
       "      <td>315</td>\n",
       "    </tr>\n",
       "    <tr>\n",
       "      <th>30.0</th>\n",
       "      <td>313</td>\n",
       "    </tr>\n",
       "    <tr>\n",
       "      <th>...</th>\n",
       "      <td>...</td>\n",
       "    </tr>\n",
       "    <tr>\n",
       "      <th>8.0</th>\n",
       "      <td>1</td>\n",
       "    </tr>\n",
       "    <tr>\n",
       "      <th>92.0</th>\n",
       "      <td>1</td>\n",
       "    </tr>\n",
       "    <tr>\n",
       "      <th>2.0</th>\n",
       "      <td>1</td>\n",
       "    </tr>\n",
       "    <tr>\n",
       "      <th>85.0</th>\n",
       "      <td>1</td>\n",
       "    </tr>\n",
       "    <tr>\n",
       "      <th>4.0</th>\n",
       "      <td>1</td>\n",
       "    </tr>\n",
       "  </tbody>\n",
       "</table>\n",
       "<p>83 rows × 1 columns</p>\n",
       "</div><br><label><b>dtype:</b> int64</label>"
      ],
      "text/plain": [
       "age\n",
       "33.0    332\n",
       "34.0    328\n",
       "31.0    321\n",
       "32.0    315\n",
       "30.0    313\n",
       "       ... \n",
       "8.0       1\n",
       "92.0      1\n",
       "2.0       1\n",
       "85.0      1\n",
       "4.0       1\n",
       "Name: count, Length: 83, dtype: int64"
      ]
     },
     "execution_count": 49,
     "metadata": {},
     "output_type": "execute_result"
    }
   ],
   "source": [
    "usa_shooting.age.value_counts()"
   ]
  },
  {
   "cell_type": "markdown",
   "metadata": {
    "id": "LI9Ey4OSgYpb"
   },
   "source": [
    "# **How many Male, Female and other genders were shot.**"
   ]
  },
  {
   "cell_type": "code",
   "execution_count": 50,
   "metadata": {
    "colab": {
     "base_uri": "https://localhost:8080/",
     "height": 209
    },
    "id": "i_Bz8-f_KCJK",
    "outputId": "6f36aad9-05ef-4830-d031-9c4227381af4"
   },
   "outputs": [
    {
     "data": {
      "text/html": [
       "<div>\n",
       "<style scoped>\n",
       "    .dataframe tbody tr th:only-of-type {\n",
       "        vertical-align: middle;\n",
       "    }\n",
       "\n",
       "    .dataframe tbody tr th {\n",
       "        vertical-align: top;\n",
       "    }\n",
       "\n",
       "    .dataframe thead th {\n",
       "        text-align: right;\n",
       "    }\n",
       "</style>\n",
       "<table border=\"1\" class=\"dataframe\">\n",
       "  <thead>\n",
       "    <tr style=\"text-align: right;\">\n",
       "      <th></th>\n",
       "      <th>count</th>\n",
       "    </tr>\n",
       "    <tr>\n",
       "      <th>gender</th>\n",
       "      <th></th>\n",
       "    </tr>\n",
       "  </thead>\n",
       "  <tbody>\n",
       "    <tr>\n",
       "      <th>male</th>\n",
       "      <td>9421</td>\n",
       "    </tr>\n",
       "    <tr>\n",
       "      <th>female</th>\n",
       "      <td>442</td>\n",
       "    </tr>\n",
       "    <tr>\n",
       "      <th>non-binary</th>\n",
       "      <td>2</td>\n",
       "    </tr>\n",
       "  </tbody>\n",
       "</table>\n",
       "</div><br><label><b>dtype:</b> int64</label>"
      ],
      "text/plain": [
       "gender\n",
       "male          9421\n",
       "female         442\n",
       "non-binary       2\n",
       "Name: count, dtype: int64"
      ]
     },
     "execution_count": 50,
     "metadata": {},
     "output_type": "execute_result"
    }
   ],
   "source": [
    "usa_shooting.gender.value_counts()"
   ]
  },
  {
   "cell_type": "markdown",
   "metadata": {
    "id": "Iehh3C8QgkWM"
   },
   "source": [
    "# **This Histogram shows graphic data by with respect to frequency and age.**"
   ]
  },
  {
   "cell_type": "code",
   "execution_count": 51,
   "metadata": {
    "colab": {
     "base_uri": "https://localhost:8080/",
     "height": 447
    },
    "id": "ya94zlxjKOQT",
    "outputId": "3352c6d7-2e15-4444-ac39-c80ead50e424"
   },
   "outputs": [
    {
     "data": {
      "text/plain": [
       "<Axes: ylabel='Frequency'>"
      ]
     },
     "execution_count": 51,
     "metadata": {},
     "output_type": "execute_result"
    },
    {
     "data": {
      "image/png": "[encoded data removed]",
      "text/plain": [
       "<Figure size 640x480 with 1 Axes>"
      ]
     },
     "metadata": {},
     "output_type": "display_data"
    }
   ],
   "source": [
    "usa_shooting.plot.hist()\n"
   ]
  },
  {
   "cell_type": "markdown",
   "metadata": {
    "id": "NGt4KFJUjqTA"
   },
   "source": [
    "# **Boxplot for outliers**"
   ]
  },
  {
   "cell_type": "code",
   "execution_count": 60,
   "metadata": {
    "colab": {
     "base_uri": "https://localhost:8080/",
     "height": 447
    },
    "id": "fRnQ5ph5KyXj",
    "outputId": "7fbe6b4a-87e7-413d-93cb-c7b9c2e3c5a6"
   },
   "outputs": [
    {
     "data": {
      "text/plain": [
       "<Axes: ylabel='age'>"
      ]
     },
     "execution_count": 60,
     "metadata": {},
     "output_type": "execute_result"
    },
    {
     "data": {
      "image/png": "[encoded data removed]",
      "text/plain": [
       "<Figure size 640x480 with 1 Axes>"
      ]
     },
     "metadata": {},
     "output_type": "display_data"
    }
   ],
   "source": [
    "usa_shooting.plot.box(ylabel='age')"
   ]
  },
  {
   "cell_type": "markdown",
   "metadata": {
    "id": "XJFOsrOnXKq5"
   },
   "source": [
    "# **1st Question: what race was shot mostly by Police?**\n",
    "\n",
    "\n",
    "**This question is vital because it can give an idea if the USA police department have some shown some kind of racism. Moreover, we can offer programs for this particular race to not do crimes in the future.**\n"
   ]
  },
  {
   "cell_type": "code",
   "execution_count": 53,
   "metadata": {
    "colab": {
     "base_uri": "https://localhost:8080/",
     "height": 491
    },
    "id": "z35a8IXBXtSX",
    "outputId": "2231e4ca-8a6e-449d-df6d-446ff8650d99"
   },
   "outputs": [
    {
     "data": {
      "text/html": [
       "<div>\n",
       "<style scoped>\n",
       "    .dataframe tbody tr th:only-of-type {\n",
       "        vertical-align: middle;\n",
       "    }\n",
       "\n",
       "    .dataframe tbody tr th {\n",
       "        vertical-align: top;\n",
       "    }\n",
       "\n",
       "    .dataframe thead th {\n",
       "        text-align: right;\n",
       "    }\n",
       "</style>\n",
       "<table border=\"1\" class=\"dataframe\">\n",
       "  <thead>\n",
       "    <tr style=\"text-align: right;\">\n",
       "      <th></th>\n",
       "      <th>count</th>\n",
       "    </tr>\n",
       "    <tr>\n",
       "      <th>race</th>\n",
       "      <th></th>\n",
       "    </tr>\n",
       "  </thead>\n",
       "  <tbody>\n",
       "    <tr>\n",
       "      <th>White</th>\n",
       "      <td>4432</td>\n",
       "    </tr>\n",
       "    <tr>\n",
       "      <th>Black</th>\n",
       "      <td>2346</td>\n",
       "    </tr>\n",
       "    <tr>\n",
       "      <th>Hispanic</th>\n",
       "      <td>1623</td>\n",
       "    </tr>\n",
       "    <tr>\n",
       "      <th>Unknown</th>\n",
       "      <td>1144</td>\n",
       "    </tr>\n",
       "    <tr>\n",
       "      <th>Asian</th>\n",
       "      <td>175</td>\n",
       "    </tr>\n",
       "    <tr>\n",
       "      <th>Native American</th>\n",
       "      <td>135</td>\n",
       "    </tr>\n",
       "    <tr>\n",
       "      <th>Other</th>\n",
       "      <td>31</td>\n",
       "    </tr>\n",
       "    <tr>\n",
       "      <th>Black,Hispanic</th>\n",
       "      <td>2</td>\n",
       "    </tr>\n",
       "    <tr>\n",
       "      <th>White,Black</th>\n",
       "      <td>2</td>\n",
       "    </tr>\n",
       "    <tr>\n",
       "      <th>White,Black,Native American</th>\n",
       "      <td>1</td>\n",
       "    </tr>\n",
       "    <tr>\n",
       "      <th>Native American,Hispanic</th>\n",
       "      <td>1</td>\n",
       "    </tr>\n",
       "    <tr>\n",
       "      <th>White,Hispanic</th>\n",
       "      <td>1</td>\n",
       "    </tr>\n",
       "  </tbody>\n",
       "</table>\n",
       "</div><br><label><b>dtype:</b> int64</label>"
      ],
      "text/plain": [
       "race\n",
       "White                          4432\n",
       "Black                          2346\n",
       "Hispanic                       1623\n",
       "Unknown                        1144\n",
       "Asian                           175\n",
       "Native American                 135\n",
       "Other                            31\n",
       "Black,Hispanic                    2\n",
       "White,Black                       2\n",
       "White,Black,Native American       1\n",
       "Native American,Hispanic          1\n",
       "White,Hispanic                    1\n",
       "Name: count, dtype: int64"
      ]
     },
     "execution_count": 53,
     "metadata": {},
     "output_type": "execute_result"
    }
   ],
   "source": [
    "usa_shooting['race'].value_counts()"
   ]
  },
  {
   "cell_type": "markdown",
   "metadata": {
    "id": "kLvlQfjLf4F8"
   },
   "source": [
    "**This python code uses value_counts() to get total number of the particular race using index of the data.**\n",
    "**By this data we can confidently say that 45% of white people were shot by police. Followed by Black, which constitues almost 25%.**"
   ]
  },
  {
   "cell_type": "markdown",
   "metadata": {
    "id": "dlwjgZRDrlWQ"
   },
   "source": [
    "# **2nd question: What gender has the highest amount of shot fired by cops**\n",
    "\n",
    "\n",
    "**This question gives insights on which gender has the highest proportion of shot by police. If we find out, then we instruct police that the highest propability of the next crime or commiting fraud could be men.**\n"
   ]
  },
  {
   "cell_type": "code",
   "execution_count": 54,
   "metadata": {
    "id": "MNHtcGWtrgcD"
   },
   "outputs": [],
   "source": [
    "\n",
    "count = 0\n",
    "other = 0\n",
    "for i in usa_shooting[\"gender\"]:\n",
    "  if i == \"male\":\n",
    "    count = count + 1\n",
    "  else:\n",
    "    other = other + 1\n"
   ]
  },
  {
   "cell_type": "code",
   "execution_count": 55,
   "metadata": {
    "colab": {
     "base_uri": "https://localhost:8080/"
    },
    "id": "vLs1QdAxPvbf",
    "outputId": "d90bb369-c7d8-4f19-d33f-865071a238f9"
   },
   "outputs": [
    {
     "name": "stdout",
     "output_type": "stream",
     "text": [
      "9421\n",
      "472\n"
     ]
    }
   ],
   "source": [
    "print(count)\n",
    "print(other)"
   ]
  },
  {
   "cell_type": "markdown",
   "metadata": {
    "id": "wQXOVl2orimA"
   },
   "source": [
    "**I used for loop access the index of gender, and then I used if to specify the condition if male or female and then i added count to add. In the end we get total number of male and female.**\n",
    "\n",
    "**You can see that 95% were men, and only 5% were women and others.**"
   ]
  },
  {
   "cell_type": "markdown",
   "metadata": {
    "id": "_66rNzzTsAfB"
   },
   "source": [
    "\n",
    "\n",
    "# **3rd question: what age has the maximum shot fired by police**\n",
    "\n",
    "**If we found out what age group committed the most crimes, which causes the police to use guns, then we can run rehabilitation center for these age group and clear issues.**\n",
    "\n"
   ]
  },
  {
   "cell_type": "code",
   "execution_count": 62,
   "metadata": {
    "colab": {
     "base_uri": "https://localhost:8080/",
     "height": 466
    },
    "id": "Wh_6gST8sLek",
    "outputId": "436c0c7b-4d1f-49d4-f7b3-6b6edd3d44c2"
   },
   "outputs": [
    {
     "data": {
      "text/plain": [
       "<Axes: xlabel='age', ylabel='Frequency'>"
      ]
     },
     "execution_count": 62,
     "metadata": {},
     "output_type": "execute_result"
    },
    {
     "data": {
      "image/png": "[encoded data removed]",
      "text/plain": [
       "<Figure size 640x480 with 1 Axes>"
      ]
     },
     "metadata": {},
     "output_type": "display_data"
    }
   ],
   "source": [
    "usa_shooting.age.plot.hist(xlabel = 'age' )"
   ]
  },
  {
   "cell_type": "markdown",
   "metadata": {
    "id": "BdW36wDbsVbP"
   },
   "source": [
    "**I used simple inbuilt function to plot histogram. From this graph we can have sense that mostly from 30 to 40 age agroup were get shot by Police. ALmost 200 people from 70 to 80 age group people were shot, which was the lowest.**"
   ]
  },
  {
   "cell_type": "markdown",
   "metadata": {
    "id": "FxCf7iZTtCHu"
   },
   "source": [
    "# **4th question: Which state are the highest? Used bar graph for this.**\n",
    "\n",
    "**This question gives idea where and which sate the USA police department should invest and recruit more cops. So they can decrease these shootings.**"
   ]
  },
  {
   "cell_type": "code",
   "execution_count": 63,
   "metadata": {
    "colab": {
     "base_uri": "https://localhost:8080/",
     "height": 568
    },
    "id": "Uekubg79uYan",
    "outputId": "9152c720-0b9b-4863-d935-2c8b2b9fa62f"
   },
   "outputs": [
    {
     "data": {
      "text/plain": [
       "<Axes: xlabel='state', ylabel='number of people'>"
      ]
     },
     "execution_count": 63,
     "metadata": {},
     "output_type": "execute_result"
    },
    {
     "data": {
      "image/png": "[encoded data removed]",
      "text/plain": [
       "<Figure size 1000x600 with 1 Axes>"
      ]
     },
     "metadata": {},
     "output_type": "display_data"
    }
   ],
   "source": [
    "e = usa_shooting['state'].value_counts()\n",
    "e.plot.bar(ylabel='number of people', figsize=(10,6))\n"
   ]
  },
  {
   "cell_type": "markdown",
   "metadata": {
    "id": "BJq9_oZxvALw"
   },
   "source": [
    "**from this you can see CA has the highest number of people shot by police.**\n",
    "\n",
    "---\n",
    "\n"
   ]
  },
  {
   "cell_type": "markdown",
   "metadata": {
    "id": "93HPCrQ-tXOT"
   },
   "source": [
    "# **5th question: How many of this shooting have cameara footage.**\n",
    "\n",
    "**This is very important question because if police shot inncocent human and they will try to destroy evidence.**\n",
    "**This code used values.counts to get values for the object and then i used my own calculator to get percentage. Afterwards I plotted pie chart.**"
   ]
  },
  {
   "cell_type": "code",
   "execution_count": 64,
   "metadata": {
    "colab": {
     "base_uri": "https://localhost:8080/",
     "height": 530
    },
    "id": "8C76AinevGrc",
    "outputId": "a9caebc9-274b-46c1-9d04-b8b53cb97779"
   },
   "outputs": [
    {
     "name": "stdout",
     "output_type": "stream",
     "text": [
      "body_camera\n",
      "False    6540\n",
      "True     1412\n",
      "Name: count, dtype: int64\n",
      "82.95764682098454 this is the percentage represent that polic camera footage was not stored and this 17.042353179015464 represent number of stored videos \n"
     ]
    },
    {
     "data": {
      "text/plain": [
       "<Axes: ylabel='count'>"
      ]
     },
     "execution_count": 64,
     "metadata": {},
     "output_type": "execute_result"
    },
    {
     "data": {
      "image/png": "[encoded data removed]",
      "text/plain": [
       "<Figure size 640x480 with 1 Axes>"
      ]
     },
     "metadata": {},
     "output_type": "display_data"
    }
   ],
   "source": [
    "e = usa_shooting['body_camera'].value_counts()\n",
    "print(e)\n",
    "p_false = (8207/9893)*100\n",
    "p_true = (1686/9893)*100\n",
    "print(f'{p_false} this is the percentage represent that polic camera footage was not stored and this {p_true} represent number of stored videos ')\n",
    "e.plot.pie()\n"
   ]
  },
  {
   "cell_type": "markdown",
   "metadata": {
    "id": "CkitefWjxoPI"
   },
   "source": [
    " **From this we can clearly see that something fishy going on; therefore, we say that government hiding some of the things from public and have to hold accountability for this. Since USA is very advanced, we can clearly say something is wrong.**\n",
    "-------------------------------------------------------------------"
   ]
  },
  {
   "cell_type": "markdown",
   "metadata": {
    "id": "hYecUugatlbD"
   },
   "source": [
    "# **6th question: Shootings were increased or decreased over the years? using line chart to visualize.**\n",
    "**This gives estimates of how rapidly or slowly incraesed or decreased.**\n",
    "**Here I plotted line chart, using inbuilt function because it is very efficient for comparing continuous years.**"
   ]
  },
  {
   "cell_type": "code",
   "execution_count": 65,
   "metadata": {
    "colab": {
     "base_uri": "https://localhost:8080/",
     "height": 482
    },
    "id": "y0-GCcX1x1yD",
    "outputId": "aadc5c11-5cfe-4e36-dd5d-a95f474df048"
   },
   "outputs": [
    {
     "data": {
      "text/plain": [
       "<Axes: xlabel='date', ylabel='people'>"
      ]
     },
     "execution_count": 65,
     "metadata": {},
     "output_type": "execute_result"
    },
    {
     "data": {
      "image/png": "[encoded data removed]",
      "text/plain": [
       "<Figure size 1000x500 with 1 Axes>"
      ]
     },
     "metadata": {},
     "output_type": "display_data"
    }
   ],
   "source": [
    "s = usa_shooting[\"date\"].value_counts()\n",
    "s.plot.line(ylabel='people', figsize=(10,5))"
   ]
  },
  {
   "cell_type": "markdown",
   "metadata": {
    "id": "vDs1A2GdyISr"
   },
   "source": [
    "# **From this code we can see that the shooting of victims just increased sharply from 2021 over the span of almost 2 years.**\n",
    "\n",
    "# **So from this we can create a insight of fraud and try to say, thus, doing illigal activities is also increased significantly.**\n",
    "\n",
    "# **So from this we created new insights.**"
   ]
  },
  {
   "cell_type": "markdown",
   "metadata": {
    "id": "6AjtErnCtshU"
   },
   "source": [
    "\n",
    "\n",
    "# **7th question :**\n",
    "\n",
    "# **How many people try to flee the scence?**\n",
    "\n",
    "**This question is indicating police to be more careful and use additional weapons to stop them from fleeing the scence. Only applies if it is significant.**"
   ]
  },
  {
   "cell_type": "code",
   "execution_count": 66,
   "metadata": {
    "colab": {
     "base_uri": "https://localhost:8080/",
     "height": 482
    },
    "id": "rWqQcMeLyXg7",
    "outputId": "d89cb543-61d4-4f38-f8b9-b33e5b142737"
   },
   "outputs": [
    {
     "data": {
      "text/plain": [
       "<Axes: xlabel='flee', ylabel='people who fleed using different mentod'>"
      ]
     },
     "execution_count": 66,
     "metadata": {},
     "output_type": "execute_result"
    },
    {
     "data": {
      "image/png": "[encoded data removed]",
      "text/plain": [
       "<Figure size 1000x500 with 1 Axes>"
      ]
     },
     "metadata": {},
     "output_type": "display_data"
    }
   ],
   "source": [
    "f = usa_shooting['flee'].value_counts()\n",
    "f.plot.area( ylabel='people who fleed using different mentod',figsize=(10,5))"
   ]
  },
  {
   "cell_type": "markdown",
   "metadata": {
    "id": "oPBcTufPuh1N"
   },
   "source": [
    "\n",
    "\n",
    "**From we can grab sense that more than 5000 people did not fleed the scence\n",
    ";however, approximately 1500 people used car to flee. Furthermore, foot consistued roughly 1200.**"
   ]
  },
  {
   "cell_type": "markdown",
   "metadata": {
    "id": "NXFVwRGXt3Zi"
   },
   "source": [
    "# **Conclusion of this Exploratory Data Analysis FOR THIS DATASET**\n",
    "\n",
    "**These questions help us to control shooting and hols accountability by police. Furthermore, it gives probability of where and which state to asssign more cops and against which gender may police can use guns aginst.On top of that, the 6th question answered that shootings were rised rapidly since 2015. So yeah this data helps USA Government to be more careful and introduce optimal meassures to reduce it.And also helps public to be more careful with police who havent turned on their cameras.**\n",
    "\n",
    "**From this EDA we can see how well can we understand data if we do EDA.**"
   ]
  },
  {
   "cell_type": "code",
   "execution_count": null,
   "metadata": {
    "id": "naYCuwAiQLOm"
   },
   "outputs": [],
   "source": []
  }
 ],
 "metadata": {
  "colab": {
   "provenance": []
  },
  "kernelspec": {
   "display_name": "Python 3 (ipykernel)",
   "language": "python",
   "name": "python3"
  },
  "language_info": {
   "codemirror_mode": {
    "name": "ipython",
    "version": 3
   },
   "file_extension": ".py",
   "mimetype": "text/x-python",
   "name": "python",
   "nbconvert_exporter": "python",
   "pygments_lexer": "ipython3",
   "version": "3.12.4"
  }
 },
 "nbformat": 4,
 "nbformat_minor": 4
}
